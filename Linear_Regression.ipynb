{
  "cells": [
    {
      "cell_type": "markdown",
      "metadata": {
        "id": "G00Tj60xojPU"
      },
      "source": [
        "## Linear Regression with Gradient Descent\n",
        "\n",
        "In this notebook, we implement a simple linear regression model using gradient descent. Linear regression is a method for modeling the relationship between a scalar dependent variable \\( y \\) and one or more independent variables \\( x \\). The goal is to find the best-fitting line through the data points that minimizes the cost function, which in this case is the mean squared error.\n",
        "\n",
        "### Key Concepts\n",
        "\n",
        "1. **Model Function**:\n",
        "   The linear regression model is defined as:\n",
        "   $$\n",
        "   f(w, b, x) = w \\cdot x + b\n",
        "   $$\n",
        "   where $ w $ is the weight (slope) and $ b $ is the bias (intercept).\n",
        "\n",
        "2. **Cost Function**:\n",
        "   The cost function $ J(w, b) $ measures how well the model predicts the target values compared to the actual values. It is defined as:\n",
        "   $$\n",
        "   J(w, b) = \\frac{1}{2m} \\sum_{i=1}^{m} \\left( f(w, b, x^{(i)}) - y^{(i)} \\right)^2\n",
        "   $$\n",
        "   where $ m $ is the number of training examples, $ x^{(i)} $ is the $i_{th}$ feature value, and $ y^{(i)} $ is the $i_{th}$ target value.\n",
        "\n",
        "3. **Gradient Descent**:\n",
        "   Gradient descent is an optimization algorithm used to minimize the cost function. We update the parameters $ w $ and $ b $ iteratively using the gradients of the cost function with respect to these parameters:\n",
        "   $$\n",
        "   w = w - \\alpha \\frac{\\partial J(w, b)}{\\partial w}\n",
        "   $$\n",
        "   $$\n",
        "   b = b - \\alpha \\frac{\\partial J(w, b)}{\\partial b}\n",
        "   $$\n",
        "   where $ \\alpha $ is the learning rate that controls the step size of each update."
      ]
    },
    {
      "cell_type": "code",
      "execution_count": 6,
      "metadata": {
        "id": "NqRy0l4DXzg5"
      },
      "outputs": [],
      "source": [
        "import numpy as np\n",
        "import matplotlib.pyplot as plt"
      ]
    },
    {
      "cell_type": "markdown",
      "metadata": {
        "id": "iGdV9LKZYMyE"
      },
      "source": [
        "# Single Variable Linear Regression Model\n",
        "$f_{w,b}(x) = wx + b$"
      ]
    },
    {
      "cell_type": "code",
      "execution_count": 7,
      "metadata": {
        "id": "C9-3PSVGYEI9"
      },
      "outputs": [],
      "source": [
        "w = 0\n",
        "b = 0\n",
        "f = lambda w, b, x: w*x + b #main model\n",
        "alpha = 0.01 # tweek and learn,\n"
      ]
    },
    {
      "cell_type": "code",
      "execution_count": 8,
      "metadata": {
        "id": "6_yCz90tYqae"
      },
      "outputs": [],
      "source": [
        "x = np.array([1,5,10,15,20]) # Data\n",
        "Y = np.array([5,10,15,20,25]) # Target"
      ]
    },
    {
      "cell_type": "markdown",
      "metadata": {
        "id": "EE-91KzWbeet"
      },
      "source": [
        "## Cost Function:\n",
        "$$J(w,b) = \\frac{1}{2m} \\sum\\limits_{i = 0}^{m-1} (f_{w,b}(x^{(i)}) - y^{(i)})^2 \\tag{1}$$\n",
        "\n",
        "where $m$ is `len(x)`, $Y$ is `Y` and $\\hat{Y}$ is prictied values .\n",
        "\n",
        "\n",
        "\n"
      ]
    },
    {
      "cell_type": "code",
      "execution_count": 9,
      "metadata": {
        "id": "dfoz8aGTZnBc"
      },
      "outputs": [],
      "source": [
        "# Declaring Cost Function\n",
        "J = lambda w, b, Y, x: np.sum((Y - f(w, b, x))**2) / (2*len(x))"
      ]
    },
    {
      "cell_type": "code",
      "execution_count": 11,
      "metadata": {
        "colab": {
          "base_uri": "https://localhost:8080/"
        },
        "id": "GdMygMCfZuEs",
        "outputId": "e3495ecb-d2f9-4d5c-e3e1-8b70b177a5dc"
      },
      "outputs": [
        {
          "name": "stdout",
          "output_type": "stream",
          "text": [
            "75.1\n"
          ]
        }
      ],
      "source": [
        "j_value = J(w,b, x, Y)\n",
        "print(j_value)"
      ]
    },
    {
      "cell_type": "code",
      "execution_count": 24,
      "metadata": {
        "id": "LMisr7QUZ33m"
      },
      "outputs": [],
      "source": [
        "# Declaring Gradients\n",
        "dJ_dw = lambda w, b, Y, x: np.sum((f(w, b, x) - Y) * x) / len(x)\n",
        "dJ_db = lambda w, b, Y, x: np.sum(f(w, b, x) - Y) / len(x)"
      ]
    },
    {
      "cell_type": "code",
      "execution_count": 13,
      "metadata": {
        "id": "SBMTCZEmaG0G"
      },
      "outputs": [],
      "source": [
        "# Perform gradient descent\n",
        "for _ in range(1000):\n",
        "    w_temp = w - alpha * dJ_dw(w, b, Y, x)\n",
        "    b_temp = b - alpha * dJ_db(w, b, Y, x)\n",
        "    b = b_temp\n",
        "    w = w_temp"
      ]
    },
    {
      "cell_type": "code",
      "execution_count": 14,
      "metadata": {
        "colab": {
          "base_uri": "https://localhost:8080/"
        },
        "id": "XU4Yhmv8aRl8",
        "outputId": "dde4c0df-9681-42d9-f1b3-d379292cff01"
      },
      "outputs": [
        {
          "name": "stdout",
          "output_type": "stream",
          "text": [
            "1.053537807483562 4.192431870540744\n"
          ]
        }
      ],
      "source": [
        "print(w,b)"
      ]
    },
    {
      "cell_type": "code",
      "execution_count": 15,
      "metadata": {
        "colab": {
          "base_uri": "https://localhost:8080/"
        },
        "id": "v__DNvLDaWpl",
        "outputId": "5a975281-563c-4448-d606-52469175d7ed"
      },
      "outputs": [
        {
          "name": "stdout",
          "output_type": "stream",
          "text": [
            "48.23463319668165\n"
          ]
        }
      ],
      "source": [
        "print(J(w,b, x, Y))"
      ]
    },
    {
      "cell_type": "code",
      "execution_count": 16,
      "metadata": {
        "colab": {
          "base_uri": "https://localhost:8080/"
        },
        "id": "_sfzTEMlaY7t",
        "outputId": "92b5b156-5843-4300-bce9-9ce1dd5dfcbd"
      },
      "outputs": [
        {
          "data": {
            "text/plain": [
              "14.727809945376364"
            ]
          },
          "execution_count": 16,
          "metadata": {},
          "output_type": "execute_result"
        }
      ],
      "source": [
        "f(w,b,10)"
      ]
    },
    {
      "cell_type": "code",
      "execution_count": 17,
      "metadata": {
        "id": "PyB5BOwAa9dV"
      },
      "outputs": [],
      "source": [
        "x_space = np.linspace(0,25,25)\n",
        "Y_space = f(w,b, x_space)"
      ]
    },
    {
      "cell_type": "code",
      "execution_count": 18,
      "metadata": {
        "colab": {
          "base_uri": "https://localhost:8080/",
          "height": 430
        },
        "id": "KrlulVA0ai58",
        "outputId": "5445b520-aa2a-426a-d9bc-669a24ae65db"
      },
      "outputs": [
        {
          "data": {
            "image/png": "[encoded data removed]",
            "text/plain": [
              "<Figure size 640x480 with 1 Axes>"
            ]
          },
          "metadata": {},
          "output_type": "display_data"
        }
      ],
      "source": [
        "plt.scatter(x,Y)\n",
        "plt.plot(x_space,Y_space,c=\"r\")\n",
        "plt.show()"
      ]
    },
    {
      "cell_type": "markdown",
      "metadata": {},
      "source": [
        "# Real Example With Data"
      ]
    },
    {
      "cell_type": "code",
      "execution_count": 19,
      "metadata": {},
      "outputs": [],
      "source": [
        "import pandas as pd\n",
        "data = pd.read_csv(\"archive/Salary_dataset.csv\")\n",
        "x, Y = data[\"YearsExperience\"], data[\"Salary\"]\n",
        "x, Y = np.array(x), np.array(Y)"
      ]
    },
    {
      "cell_type": "code",
      "execution_count": 22,
      "metadata": {},
      "outputs": [
        {
          "name": "stdout",
          "output_type": "stream",
          "text": [
            "   Unnamed: 0  YearsExperience   Salary\n",
            "0           0              1.2  39344.0\n",
            "1           1              1.4  46206.0\n",
            "2           2              1.6  37732.0\n",
            "3           3              2.1  43526.0\n",
            "4           4              2.3  39892.0\n"
          ]
        }
      ],
      "source": [
        "print(data[:5])"
      ]
    },
    {
      "cell_type": "code",
      "execution_count": 23,
      "metadata": {},
      "outputs": [],
      "source": [
        "w, b = 0, 0 \n",
        "alpha = 0.01"
      ]
    },
    {
      "cell_type": "code",
      "execution_count": 25,
      "metadata": {},
      "outputs": [],
      "source": [
        "for _ in range(1000):\n",
        "    w_temp = w - alpha * dJ_dw(w, b, Y, x)\n",
        "    b_temp = b - alpha * dJ_db(w, b, Y, x)\n",
        "    b = b_temp\n",
        "    w = w_temp"
      ]
    },
    {
      "cell_type": "code",
      "execution_count": 26,
      "metadata": {},
      "outputs": [],
      "source": [
        "x_line_space = np.linspace(0, max(x))\n",
        "Y_line_space = f(w,b,x_line_space)"
      ]
    },
    {
      "cell_type": "code",
      "execution_count": 28,
      "metadata": {},
      "outputs": [
        {
          "data": {
            "image/png": "[encoded data removed]",
            "text/plain": [
              "<Figure size 640x480 with 1 Axes>"
            ]
          },
          "metadata": {},
          "output_type": "display_data"
        }
      ],
      "source": [
        "plt.scatter(x,Y)\n",
        "plt.plot(x_line_space,Y_line_space,c=\"r\")\n",
        "plt.show()"
      ]
    },
    {
      "cell_type": "code",
      "execution_count": null,
      "metadata": {},
      "outputs": [],
      "source": []
    }
  ],
  "metadata": {
    "colab": {
      "provenance": []
    },
    "kernelspec": {
      "display_name": "Python 3",
      "name": "python3"
    },
    "language_info": {
      "codemirror_mode": {
        "name": "ipython",
        "version": 3
      },
      "file_extension": ".py",
      "mimetype": "text/x-python",
      "name": "python",
      "nbconvert_exporter": "python",
      "pygments_lexer": "ipython3",
      "version": "3.11.6"
    }
  },
  "nbformat": 4,
  "nbformat_minor": 0
}
